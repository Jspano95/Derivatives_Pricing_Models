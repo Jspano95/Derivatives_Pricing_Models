{
 "cells": [
  {
   "cell_type": "markdown",
   "metadata": {},
   "source": [
    "## DERIVATIVES PRICER \n",
    "* Code is centered around tree-pricing models and monte carlo simulations"
   ]
  },
  {
   "cell_type": "markdown",
   "metadata": {},
   "source": [
    "### TO DO: \n",
    "* Find a proper real-life data source to create robust examples\n",
    "    * Potential Sources:\n",
    "        * https://finance.yahoo.com/quote/%5ESPX/options?guce_referrer=aHR0cDovL2xvY2FsaG9zdDo4ODg4Lw&guce_referrer_sig=AQAAAJUeFD2zHulQJDrOgwLtyv-FW-lil1QsNe3h00p50uKsA4L4mKOpmN9jBZXdlzRIx2B-NivxYckMXQSwP3T3DzQyM0PdQ1t1hfrYDqgFKRRAuvBUOlS-JFjdfxwWN0U9_BHvujq_PlghcFhdQhcvnLrDonM3ti4yhPu1MD8jBksd&p=%5ESPX&straddle=false\n",
    "        * https://www2.asx.com.au/markets/trade-our-derivatives-market/derivatives-market-prices/single-stock-derivatives?expiryMonths=Feb+2021&expiryMonths=Mar+2021&expiryMonths=Apr+2021&expiryMonths=May+2021&expiryMonths=Jun+2021&expiryMonths=Jul+2021&expiryMonths=Aug+2021&expiryMonths=Sep+2021&expiryMonths=Oct+2021&expiryMonths=Nov+2021&expiryMonths=Dec+2021&expiryMonths=Jan+2022&expiryMonths=Feb+2022&expiryMonths=Mar+2022&expiryMonths=Apr+2022&expiryMonths=May+2022&expiryMonths=Jun+2022&expiryMonths=Jul+2022&expiryMonths=Aug+2022&expiryMonths=Sep+2022&expiryMonths=Oct+2022&expiryMonths=Nov+2022&expiryMonths=Dec+2022&expiryMonths=Jan+2023&expiryMonths=Feb+2023&expiryMonths=Mar+2023&expiryMonths=Apr+2023&expiryMonths=May+2023&expiryMonths=Jun+2023&expiryMonths=Jul+2023&expiryMonths=Aug+2023&expiryMonths=Sep+2023&expiryMonths=Oct+2023&expiryMonths=Nov+2023&expiryMonths=Dec+2023&expiryMonths=Jan+2024&expiryMonths=Feb+2024&expiryMonths=Mar+2024&expiryMonths=Apr+2024&expiryMonths=May+2024&expiryMonths=Jun+2024&expiryMonths=Jul+2024&expiryMonths=Aug+2024&expiryMonths=Sep+2024&expiryMonths=Oct+2024&expiryMonths=Nov+2024&expiryMonths=Dec+2024&expiryMonths=Jan+2025\n",
    "        \n",
    "        \n",
    "* Add vectorised MC \n",
    "* Finish tree methods & add example\n",
    "* Add variance reduction methods to MC\n",
    "* Show how non-closed solution american options can be priced from the base of the asian MC sim\n",
    "* Add visuals for demonstrating the impact of IV on pricing\n",
    "* Add GARCH models for volatility forecasting\n",
    "* Price and backtest real traded options to see the accuracy of said models in practice (ex. liquidity constraints)"
   ]
  },
  {
   "cell_type": "code",
   "execution_count": null,
   "metadata": {},
   "outputs": [],
   "source": []
  },
  {
   "cell_type": "code",
   "execution_count": 1,
   "metadata": {},
   "outputs": [],
   "source": [
    "## import packages\n",
    "from scipy.stats import norm\n",
    "from scipy.optimize import brentq\n",
    "import numpy as np\n",
    "import matplotlib.pyplot as plt\n",
    "import pandas as pd\n",
    "#import pandas_datareader.data as web\n",
    "%matplotlib inline"
   ]
  },
  {
   "cell_type": "code",
   "execution_count": null,
   "metadata": {
    "pycharm": {
     "name": "#%%\n"
    }
   },
   "outputs": [],
   "source": []
  },
  {
   "cell_type": "code",
   "execution_count": null,
   "metadata": {
    "pycharm": {
     "name": "#%%\n"
    }
   },
   "outputs": [],
   "source": []
  },
  {
   "cell_type": "code",
   "execution_count": null,
   "metadata": {
    "pycharm": {
     "name": "#%%\n"
    }
   },
   "outputs": [],
   "source": []
  },
  {
   "cell_type": "markdown",
   "metadata": {},
   "source": [
    "## BLACKSCHOLES - BASELINE\n",
    "* (CLOSED FORM SOLUTION FOR EUROPEAN OPTIONS)"
   ]
  },
  {
   "cell_type": "code",
   "execution_count": 38,
   "metadata": {},
   "outputs": [],
   "source": [
    "# hypothetical parameters:\n",
    "S0=11.; K=10.; T=3/12.; r=.02; sigma=.3; N=500;"
   ]
  },
  {
   "cell_type": "code",
   "execution_count": 39,
   "metadata": {
    "pycharm": {
     "name": "#%%\n"
    }
   },
   "outputs": [],
   "source": [
    "\n",
    "def blackscholes(S0, K, T, r, sigma):\n",
    "    \"\"\"\n",
    "    Price of a European call in the Black-Scholes model.\n",
    "    \"\"\"\n",
    "    d1 = (np.log(S0)-np.log(K)+(r+sigma**2/2)*T)/(sigma*np.sqrt(T))\n",
    "    d2 = d1-sigma*np.sqrt(T)\n",
    "    return S0*norm.cdf(d1)-np.exp(-r*T)*K*norm.cdf(d2)"
   ]
  },
  {
   "cell_type": "code",
   "execution_count": 40,
   "metadata": {
    "pycharm": {
     "name": "#%%\n"
    }
   },
   "outputs": [
    {
     "data": {
      "text/plain": [
       "1.2858368491569285"
      ]
     },
     "execution_count": 40,
     "metadata": {},
     "output_type": "execute_result"
    }
   ],
   "source": [
    "blackscholes(S0, K, T, r, sigma)"
   ]
  },
  {
   "cell_type": "code",
   "execution_count": 41,
   "metadata": {
    "pycharm": {
     "name": "#%%\n"
    }
   },
   "outputs": [
    {
     "data": {
      "text/plain": [
       "array([3.04764278, 2.56561793, 2.10292676, 1.67202011, 1.28583685])"
      ]
     },
     "execution_count": 41,
     "metadata": {},
     "output_type": "execute_result"
    }
   ],
   "source": [
    "# also pass in an ndarray for for different strikes)\n",
    "Ks = np.linspace(8, 10, 5)\n",
    "blackscholes(S0, Ks, T, r, sigma)"
   ]
  },
  {
   "cell_type": "code",
   "execution_count": null,
   "metadata": {
    "pycharm": {
     "name": "#%%\n"
    }
   },
   "outputs": [],
   "source": []
  },
  {
   "cell_type": "markdown",
   "metadata": {},
   "source": [
    "## IMPLIED VOLATILITY\n",
    "\n",
    "* The *implied volatility* (IV, $\\sigma _{I}$) of an option is that value of $\\sigma $ which equates the BS model price to the observed market price $C_{0}^{obs}$, i.e., it solves\n",
    "<br><br>\n",
    "$$\n",
    "C_{0}^{obs}=BS(S_{0},K,T,r,\\sigma_I).\n",
    "$$\n",
    "<br>\n",
    "* If the BS assumptions were correct, then any option traded on the asset should have the same IV, which should in turn equal historical volatility.\n",
    "\n",
    "* In practice, options with different strikes $K$ and hence *moneyness* $K/S_{0}$ have different IVs: this gives rise to a *volatility smile* or *smirk/skew*.\n",
    "\n",
    "    * Also, options with different times to maturity have different IVs: this yields a *volatility term structure*.\n",
    "\n",
    "* These phenomena are evidence of a failure of the assumptions of the Black-Scholes model, most importantly that of a constant volatility $\\sigma$."
   ]
  },
  {
   "cell_type": "code",
   "execution_count": 45,
   "metadata": {
    "pycharm": {
     "name": "#%%\n"
    }
   },
   "outputs": [],
   "source": [
    "def impvol(S0, K, T, r, C_obs, Type='call'): \n",
    "    \"\"\"\n",
    "    Implied Black-Scholes volatility. \n",
    "    Root Finding Function: Scipy Brentq\n",
    "    \"\"\"\n",
    "    \n",
    "    ## if != call; can convert to call price via parity\n",
    "    if Type == 'put':  \n",
    "        C_obs = C_obs+S0-np.exp(-r*T)*K\n",
    "        \n",
    "    ## else if type = call (function default behaviour)    \n",
    "    # theranchi bounds\n",
    "    L = -2*norm.ppf((S0-C_obs)/(2.0*min(S0, np.exp(-r*T)*K)))/np.sqrt(T)\n",
    "    U = -2*norm.ppf((S0-C_obs)/(S0+np.exp(-r*T)*K))/np.sqrt(T)\n",
    "    \n",
    "    #Partial application would be:  f(s)=BS(S0, K, T, r, s)-C_obs.\n",
    "    return brentq(lambda s: blackscholes(S0, K, T, r, s)-C_obs, L, U)  "
   ]
  },
  {
   "cell_type": "code",
   "execution_count": 46,
   "metadata": {
    "pycharm": {
     "name": "#%%\n"
    }
   },
   "outputs": [],
   "source": [
    "## dummy data for now \n",
    "C_obs=3 \n",
    "\n",
    "# hypothetical parameters:\n",
    "S0=11.; K=10.; T=3/12.; r=.02; sigma=.3; N=500;"
   ]
  },
  {
   "cell_type": "code",
   "execution_count": 47,
   "metadata": {},
   "outputs": [
    {
     "data": {
      "text/plain": [
       "(1.1854766702441244, 3.0000000000000178)"
      ]
     },
     "execution_count": 47,
     "metadata": {},
     "output_type": "execute_result"
    }
   ],
   "source": [
    "IV = impvol(S0, K, T, r, C_obs); (IV, blackscholes(S0, K, T, r, IV))"
   ]
  },
  {
   "cell_type": "code",
   "execution_count": 49,
   "metadata": {},
   "outputs": [
    {
     "data": {
      "text/plain": [
       "3.0000000000000178"
      ]
     },
     "execution_count": 49,
     "metadata": {},
     "output_type": "execute_result"
    }
   ],
   "source": [
    "# equivalent to re-running the blackscholes from above with the implied volatility (IV) in place of sigma\n",
    "blackscholes(S0, K, T, r, IV) # IV replaces sigma"
   ]
  },
  {
   "cell_type": "code",
   "execution_count": null,
   "metadata": {},
   "outputs": [],
   "source": []
  },
  {
   "cell_type": "code",
   "execution_count": null,
   "metadata": {
    "pycharm": {
     "name": "#%%\n"
    }
   },
   "outputs": [],
   "source": []
  },
  {
   "cell_type": "markdown",
   "metadata": {},
   "source": [
    "## TREE OPTION PRICING \n",
    "* Specifications: \n",
    "    * Call / Put\n",
    "    * American / European"
   ]
  },
  {
   "cell_type": "code",
   "execution_count": 15,
   "metadata": {
    "pycharm": {
     "name": "#%%\n"
    }
   },
   "outputs": [],
   "source": [
    "def optiontree_flexible(S0, K, T, r, sigma, N, Type='call', option_spec='american'):\n",
    "    \"\"\"\n",
    "    Calculate (American or European) (call & put) prices based on a N-step binomial tree: \n",
    "    \"\"\"\n",
    "    \n",
    "    # define delta_t (Time to maturity / number of steps)\n",
    "    deltaT = T / float(N)\n",
    "    \n",
    "    # define the factor by which the (up) movement rises\n",
    "    u = np.exp(sigma*np.sqrt(deltaT))\n",
    "    \n",
    "    # define d in such a way the tree is recombinant \n",
    "    d = 1.0 / u\n",
    "    \n",
    "    # define probabilities according to the theory of risk neutral valuation\n",
    "    p = (np.exp(r*deltaT)-d) / (u-d)\n",
    "    \n",
    "    # probabilities (up) and (down) = piu and pid respectively\n",
    "    piu = np.exp(-r*deltaT) * p\n",
    "    pid = np.exp(-r*deltaT) * (1-p)\n",
    "    \n",
    "    # calculate the stock price tree (stock price at origination * up(down) movement factors relative to position in tree\n",
    "    S = S0 * u**np.arange(N+1) * d**(2*np.arange(N+1)[:, np.newaxis])\n",
    "    \n",
    "    #keep only the upper triangular part (as only non-negative payoffs contribute to price) \n",
    "    S = np.triu(S)  \n",
    "    \n",
    "    if Type =='call':\n",
    "        \n",
    "        # initialise the matrix of zeros to be written over for (when payoff > 0) for the payoff structure \n",
    "        C = np.zeros((N+1, N+1))\n",
    "        \n",
    "        # calculate the payoff for each node in the tree through to (N) steps: larger of (0, or stock - strike price) for call\n",
    "        C[:, N] = np.maximum(0, S[:, N]-K) \n",
    "\n",
    "        # iterate backwards through tree to multiply payoffs by probability of being in that node\n",
    "        for j in range(N-1, -1, -1):\n",
    "            C[:j+1, j] = piu * C[:j+1, j+1] + pid * C[1:j+2, j+1]\n",
    "            \n",
    "            # if option = American; calculate the value of early exercise\n",
    "            if option_spec == 'american':\n",
    "                C[:j+1, j] = np.maximum(K-S[:j+1, j], C[:j+1, j] )\n",
    "\n",
    "        # return the price of the option at origination (which is the weighted sum of payoffs * probabilities) in the tree    \n",
    "        return  np.round(C[0, 0],6)\n",
    "    \n",
    "    elif Type =='put':\n",
    "        # initialise matrix of zeros (could use C again but for clarity, rename it to P)\n",
    "        P = np.zeros((N+1,N+1))\n",
    "        \n",
    "        # calculate payoff- for put is: maximum of (0, strike-stock)\n",
    "        P[:, N]=np.maximum(0, K-S[:, N])\n",
    "        \n",
    "        # iterate through tree of payoffs and probabilities\n",
    "        for j in range(N-1, -1, -1):\n",
    "            P[:j+1, j] = piu * P[:j+1, j+1] + pid * P[1:j+2, j+1]\n",
    "            \n",
    "            # if option = American; calculate the value of early exercise\n",
    "            if option_spec =='american':\n",
    "                P[:j+1, j] = np.maximum(P[:j+1, j], K-S[:j+1, j] )\n",
    "    \n",
    "        # return price at origination\n",
    "        return  np.round(P[0, 0],6)    \n",
    "    \n",
    "    "
   ]
  },
  {
   "cell_type": "code",
   "execution_count": 4,
   "metadata": {
    "pycharm": {
     "name": "#%%\n"
    }
   },
   "outputs": [],
   "source": [
    "# hypothetical parameters:\n",
    "S0=11.; K=10.; T=3/12.; r=.02; sigma=.3; N=500;"
   ]
  },
  {
   "cell_type": "code",
   "execution_count": 11,
   "metadata": {},
   "outputs": [
    {
     "data": {
      "text/plain": [
       "1.28574"
      ]
     },
     "execution_count": 11,
     "metadata": {},
     "output_type": "execute_result"
    }
   ],
   "source": [
    "optiontree_flexible(S0, K, T, r, sigma, N, Type='call', option_spec='european')"
   ]
  },
  {
   "cell_type": "code",
   "execution_count": 12,
   "metadata": {},
   "outputs": [
    {
     "data": {
      "text/plain": [
       "0.235864"
      ]
     },
     "execution_count": 12,
     "metadata": {},
     "output_type": "execute_result"
    }
   ],
   "source": [
    "optiontree_flexible(S0, K, T, r, sigma, N, Type='put', option_spec='european')"
   ]
  },
  {
   "cell_type": "code",
   "execution_count": 13,
   "metadata": {},
   "outputs": [
    {
     "data": {
      "text/plain": [
       "1.522124"
      ]
     },
     "execution_count": 13,
     "metadata": {},
     "output_type": "execute_result"
    }
   ],
   "source": [
    "optiontree_flexible(S0, K, T, r, sigma, N, Type='call', option_spec='american')"
   ]
  },
  {
   "cell_type": "code",
   "execution_count": 34,
   "metadata": {},
   "outputs": [
    {
     "data": {
      "text/plain": [
       "0.236918"
      ]
     },
     "execution_count": 34,
     "metadata": {},
     "output_type": "execute_result"
    }
   ],
   "source": [
    "optiontree_flexible(S0, K, T, r, sigma, N, Type='put', option_spec='american')"
   ]
  },
  {
   "cell_type": "code",
   "execution_count": null,
   "metadata": {
    "pycharm": {
     "name": "#%%\n"
    }
   },
   "outputs": [],
   "source": []
  },
  {
   "cell_type": "code",
   "execution_count": 35,
   "metadata": {
    "pycharm": {
     "name": "#%%\n"
    }
   },
   "outputs": [],
   "source": [
    "def impvol_tree_model(S0, K, T, r, price_obs, N, option_type='put'):\n",
    "    \"\"\"\n",
    "    Tree-implied volatility for various option types\n",
    "    \"\"\"\n",
    "    \n",
    "    # Theranchi Bounds (L, U)\n",
    "    # These bounds are used to reprove asymptotic formulae for implied volatility at extreme strikes and/or maturities.\n",
    "    L = 0.1\n",
    "    U = 10\n",
    "    \n",
    "    if option_type =='put':\n",
    "        return brentq(lambda s: optiontree_flexible(S0, K, T, r, s, N)-price_obs, L, U)\n",
    "    \n",
    "    # else \"return call\"\n",
    "    else:\n",
    "        return brentq(lambda s: (price_obs, L, U) - optiontree_flexible(S0, K, T, r, s, N))\n",
    "    \n",
    "    "
   ]
  },
  {
   "cell_type": "code",
   "execution_count": 36,
   "metadata": {},
   "outputs": [],
   "source": [
    "# hypothetical obs_price \n",
    "price_obs = 0.3\n",
    "\n",
    "# hypothetical parameters:\n",
    "S0=11.; K=10.; T=3/12.; r=.02; sigma=.3; N=500;"
   ]
  },
  {
   "cell_type": "code",
   "execution_count": 37,
   "metadata": {},
   "outputs": [
    {
     "ename": "ValueError",
     "evalue": "f(a) and f(b) must have different signs",
     "output_type": "error",
     "traceback": [
      "\u001b[1;31m---------------------------------------------------------------------------\u001b[0m",
      "\u001b[1;31mValueError\u001b[0m                                Traceback (most recent call last)",
      "\u001b[1;32m<ipython-input-37-393b74afa9e9>\u001b[0m in \u001b[0;36m<module>\u001b[1;34m\u001b[0m\n\u001b[1;32m----> 1\u001b[1;33m \u001b[0mimpvol_tree_model\u001b[0m\u001b[1;33m(\u001b[0m\u001b[0mS0\u001b[0m\u001b[1;33m,\u001b[0m \u001b[0mK\u001b[0m\u001b[1;33m,\u001b[0m \u001b[0mT\u001b[0m\u001b[1;33m,\u001b[0m \u001b[0mr\u001b[0m\u001b[1;33m,\u001b[0m \u001b[0mprice_obs\u001b[0m\u001b[1;33m,\u001b[0m \u001b[0mN\u001b[0m\u001b[1;33m)\u001b[0m\u001b[1;33m\u001b[0m\u001b[1;33m\u001b[0m\u001b[0m\n\u001b[0m",
      "\u001b[1;32m<ipython-input-35-c318cbde00ad>\u001b[0m in \u001b[0;36mimpvol_tree_model\u001b[1;34m(S0, K, T, r, price_obs, N, option_type)\u001b[0m\n\u001b[0;32m     10\u001b[0m \u001b[1;33m\u001b[0m\u001b[0m\n\u001b[0;32m     11\u001b[0m     \u001b[1;32mif\u001b[0m \u001b[0moption_type\u001b[0m \u001b[1;33m==\u001b[0m\u001b[1;34m'put'\u001b[0m\u001b[1;33m:\u001b[0m\u001b[1;33m\u001b[0m\u001b[1;33m\u001b[0m\u001b[0m\n\u001b[1;32m---> 12\u001b[1;33m         \u001b[1;32mreturn\u001b[0m \u001b[0mbrentq\u001b[0m\u001b[1;33m(\u001b[0m\u001b[1;32mlambda\u001b[0m \u001b[0ms\u001b[0m\u001b[1;33m:\u001b[0m \u001b[0moptiontree_flexible\u001b[0m\u001b[1;33m(\u001b[0m\u001b[0mS0\u001b[0m\u001b[1;33m,\u001b[0m \u001b[0mK\u001b[0m\u001b[1;33m,\u001b[0m \u001b[0mT\u001b[0m\u001b[1;33m,\u001b[0m \u001b[0mr\u001b[0m\u001b[1;33m,\u001b[0m \u001b[0ms\u001b[0m\u001b[1;33m,\u001b[0m \u001b[0mN\u001b[0m\u001b[1;33m)\u001b[0m\u001b[1;33m-\u001b[0m\u001b[0mprice_obs\u001b[0m\u001b[1;33m,\u001b[0m \u001b[0mL\u001b[0m\u001b[1;33m,\u001b[0m \u001b[0mU\u001b[0m\u001b[1;33m)\u001b[0m\u001b[1;33m\u001b[0m\u001b[1;33m\u001b[0m\u001b[0m\n\u001b[0m\u001b[0;32m     13\u001b[0m \u001b[1;33m\u001b[0m\u001b[0m\n\u001b[0;32m     14\u001b[0m     \u001b[1;31m# else \"return call\"\u001b[0m\u001b[1;33m\u001b[0m\u001b[1;33m\u001b[0m\u001b[1;33m\u001b[0m\u001b[0m\n",
      "\u001b[1;32m~\\anaconda3\\lib\\site-packages\\scipy\\optimize\\zeros.py\u001b[0m in \u001b[0;36mbrentq\u001b[1;34m(f, a, b, args, xtol, rtol, maxiter, full_output, disp)\u001b[0m\n\u001b[0;32m    774\u001b[0m     \u001b[1;32mif\u001b[0m \u001b[0mrtol\u001b[0m \u001b[1;33m<\u001b[0m \u001b[0m_rtol\u001b[0m\u001b[1;33m:\u001b[0m\u001b[1;33m\u001b[0m\u001b[1;33m\u001b[0m\u001b[0m\n\u001b[0;32m    775\u001b[0m         \u001b[1;32mraise\u001b[0m \u001b[0mValueError\u001b[0m\u001b[1;33m(\u001b[0m\u001b[1;34m\"rtol too small (%g < %g)\"\u001b[0m \u001b[1;33m%\u001b[0m \u001b[1;33m(\u001b[0m\u001b[0mrtol\u001b[0m\u001b[1;33m,\u001b[0m \u001b[0m_rtol\u001b[0m\u001b[1;33m)\u001b[0m\u001b[1;33m)\u001b[0m\u001b[1;33m\u001b[0m\u001b[1;33m\u001b[0m\u001b[0m\n\u001b[1;32m--> 776\u001b[1;33m     \u001b[0mr\u001b[0m \u001b[1;33m=\u001b[0m \u001b[0m_zeros\u001b[0m\u001b[1;33m.\u001b[0m\u001b[0m_brentq\u001b[0m\u001b[1;33m(\u001b[0m\u001b[0mf\u001b[0m\u001b[1;33m,\u001b[0m \u001b[0ma\u001b[0m\u001b[1;33m,\u001b[0m \u001b[0mb\u001b[0m\u001b[1;33m,\u001b[0m \u001b[0mxtol\u001b[0m\u001b[1;33m,\u001b[0m \u001b[0mrtol\u001b[0m\u001b[1;33m,\u001b[0m \u001b[0mmaxiter\u001b[0m\u001b[1;33m,\u001b[0m \u001b[0margs\u001b[0m\u001b[1;33m,\u001b[0m \u001b[0mfull_output\u001b[0m\u001b[1;33m,\u001b[0m \u001b[0mdisp\u001b[0m\u001b[1;33m)\u001b[0m\u001b[1;33m\u001b[0m\u001b[1;33m\u001b[0m\u001b[0m\n\u001b[0m\u001b[0;32m    777\u001b[0m     \u001b[1;32mreturn\u001b[0m \u001b[0mresults_c\u001b[0m\u001b[1;33m(\u001b[0m\u001b[0mfull_output\u001b[0m\u001b[1;33m,\u001b[0m \u001b[0mr\u001b[0m\u001b[1;33m)\u001b[0m\u001b[1;33m\u001b[0m\u001b[1;33m\u001b[0m\u001b[0m\n\u001b[0;32m    778\u001b[0m \u001b[1;33m\u001b[0m\u001b[0m\n",
      "\u001b[1;31mValueError\u001b[0m: f(a) and f(b) must have different signs"
     ]
    }
   ],
   "source": [
    "impvol_tree_model(S0, K, T, r, price_obs, N)"
   ]
  },
  {
   "cell_type": "code",
   "execution_count": null,
   "metadata": {},
   "outputs": [],
   "source": []
  },
  {
   "cell_type": "code",
   "execution_count": null,
   "metadata": {},
   "outputs": [],
   "source": []
  },
  {
   "cell_type": "code",
   "execution_count": null,
   "metadata": {},
   "outputs": [],
   "source": []
  },
  {
   "cell_type": "code",
   "execution_count": null,
   "metadata": {},
   "outputs": [],
   "source": []
  },
  {
   "cell_type": "code",
   "execution_count": null,
   "metadata": {},
   "outputs": [],
   "source": []
  },
  {
   "cell_type": "code",
   "execution_count": null,
   "metadata": {},
   "outputs": [],
   "source": []
  },
  {
   "cell_type": "markdown",
   "metadata": {},
   "source": [
    "## INCOMPLETE !! \n",
    "\n",
    "\n",
    "\n",
    "# MONTE CARLO SIMULATIONS"
   ]
  },
  {
   "cell_type": "code",
   "execution_count": null,
   "metadata": {},
   "outputs": [],
   "source": []
  },
  {
   "cell_type": "markdown",
   "metadata": {},
   "source": [
    "## define stochastic path simulators "
   ]
  },
  {
   "cell_type": "code",
   "execution_count": 8,
   "metadata": {},
   "outputs": [],
   "source": [
    "def bmsim(T, N, X0=0, mu=0, sigma=1):\n",
    "    \"\"\"Simulate a Brownian motion path with X0/mu = 0 drift terms\"\"\"\n",
    "    \n",
    "    deltaT = float(T)/N\n",
    "    \n",
    "    #N+1 is one more than we need, actually. This way we won't have to grow dX by X0.\n",
    "    tvec = np.linspace(0, T, N+1)\n",
    "    z = np.random.randn(N+1)   \n",
    "    dX = mu*deltaT + sigma*np.sqrt(deltaT)*z  #X[j+1]-X[j]=mu*deltaT + sigma*np.sqrt(deltaT)*z[j].\n",
    "    dX[0] = 0.\n",
    "    X = np.cumsum(dX)\n",
    "    X += X0    \n",
    "    return tvec, X"
   ]
  },
  {
   "cell_type": "code",
   "execution_count": null,
   "metadata": {},
   "outputs": [],
   "source": [
    "def gbmsim(T, N, S0=1, mu=0, sigma=1):\n",
    "    \"\"\"Simulate a Geometric Brownian motion path.\"\"\"\n",
    "    deltaT = float(T)/N\n",
    "    tvec = np.linspace(0, T, N+1)\n",
    "    z = np.random.randn(N+1)  #Again one more than we need. This keeps it comparable to bmsim.\n",
    "    S = np.zeros_like(z)\n",
    "    S[0] = S0\n",
    "    for i in range(0, N): #Note: we can no longer vectorize this, because S[:, j] is needed for S[:, j+1].\n",
    "        S[i+1] = S[i] + mu*S[i]*deltaT + sigma*S[i]*np.sqrt(deltaT)*z[i+1]\n",
    "    return tvec, S"
   ]
  },
  {
   "cell_type": "code",
   "execution_count": null,
   "metadata": {},
   "outputs": [],
   "source": []
  },
  {
   "cell_type": "code",
   "execution_count": null,
   "metadata": {},
   "outputs": [],
   "source": []
  },
  {
   "cell_type": "markdown",
   "metadata": {},
   "source": [
    "## ARITHMETIC AVG ASIAN CALL "
   ]
  },
  {
   "cell_type": "code",
   "execution_count": 9,
   "metadata": {},
   "outputs": [],
   "source": [
    "\n",
    "def asianmc(S0, K, T, r, sigma, q, N, numsim=10000):\n",
    "    \"\"\"Monte Carlo price of an arithmetic average Asian call.\"\"\"\n",
    "    X0 = np.log(S0)\n",
    "    nu = r-q-.5*sigma**2\n",
    "    payoffs = np.zeros(numsim)\n",
    "    for i in range(numsim):\n",
    "        _, X = bmsim(T, N, X0, nu, sigma)  #Convention: underscore holds value to be discarded.\n",
    "        S = np.exp(X)\n",
    "        payoffs[i] = max(S[1:].mean()-K, 0.)  #We ignore S0 in the mean.\n",
    "    g = np.exp(-r*T)*payoffs\n",
    "    C = g.mean(); s = g.std()\n",
    "    zq = norm.ppf(0.975)\n",
    "    Cl = C-(zq*s)/np.sqrt(numsim)\n",
    "    Cu = C+(zq*s)/np.sqrt(numsim)\n",
    "    return C, Cl, Cu"
   ]
  },
  {
   "cell_type": "code",
   "execution_count": 10,
   "metadata": {},
   "outputs": [
    {
     "name": "stdout",
     "output_type": "stream",
     "text": [
      "Wall time: 511 ms\n"
     ]
    },
    {
     "data": {
      "text/plain": [
       "(1.0927262054551385, 1.0747653929130998, 1.1106870179971773)"
      ]
     },
     "execution_count": 10,
     "metadata": {},
     "output_type": "execute_result"
    }
   ],
   "source": [
    "%%time\n",
    "\n",
    "S0 = 11; K = 10; T = 3/12.; r = 0.02; sigma = .3; q = 0.01; N = 10\n",
    "\n",
    "# ensure random seed for comparability\n",
    "np.random.seed(0)\n",
    "\n",
    "C0, Cl, Cu = asianmc(S0, K, T, r, sigma, q, N); C0, Cl, Cu"
   ]
  },
  {
   "cell_type": "code",
   "execution_count": null,
   "metadata": {},
   "outputs": [],
   "source": []
  },
  {
   "cell_type": "code",
   "execution_count": null,
   "metadata": {},
   "outputs": [],
   "source": []
  },
  {
   "cell_type": "code",
   "execution_count": null,
   "metadata": {},
   "outputs": [],
   "source": [
    "## vectorise the BM paths"
   ]
  },
  {
   "cell_type": "code",
   "execution_count": 5,
   "metadata": {},
   "outputs": [],
   "source": [
    "#Note new input: numsim, the number of paths.\n",
    "## check -- error in code when plugging into MC! \n",
    "\n",
    "def bmsim_vec(T, N, X0=0, mu=0, sigma=1, numsim=1):  \n",
    "    \"\"\"Simulate `numsim` Brownian motion paths.\"\"\"\n",
    "    deltaT = float(T)/N\n",
    "    tvec = np.linspace(0, T, N+1)\n",
    "    z = np.random.randn(numsim, N+1)  \n",
    "    dX = mu*deltaT + sigma*np.sqrt(deltaT)*z\n",
    "    \n",
    "    dX[:, 0] = 0.  \n",
    "    X = np.cumsum(dX, axis=1)  \n",
    "    \n",
    "    X += X0    \n",
    "    return tvec, X"
   ]
  },
  {
   "cell_type": "code",
   "execution_count": null,
   "metadata": {},
   "outputs": [],
   "source": [
    "def asianmc_vec(S0, K, T, r, sigma, q, N, numsim=10000):\n",
    "    \"\"\"Monte Carlo price of an arithmetic average Asian call. Vectorised Version\"\"\"\n",
    "    X0 = np.log(S0)\n",
    "    nu = r-q-.5*sigma**2    \n",
    "    \n",
    "    #simulate all paths at once:\n",
    "    _, X = bmsim_vec(T, N, X0, nu, sigma, numsim)\n",
    "    S = np.exp(X)\n",
    "    payoffs = np.maximum(S[:, 1:].mean(axis=1)-K, 0.)  #S[1:]->S[:, 1:], max->maximum, mean()->mean(axis=1)\n",
    "    g = np.exp(-r*T)*payoffs\n",
    "    C = g.mean(); s = g.std()\n",
    "    zq = norm.ppf(0.975)\n",
    "    Cl = C - zq/np.sqrt(numsim)*s\n",
    "    Cu = C + zq/np.sqrt(numsim)*s\n",
    "    return C, Cl, Cu"
   ]
  },
  {
   "cell_type": "code",
   "execution_count": null,
   "metadata": {},
   "outputs": [],
   "source": []
  },
  {
   "cell_type": "code",
   "execution_count": null,
   "metadata": {},
   "outputs": [],
   "source": []
  },
  {
   "cell_type": "markdown",
   "metadata": {},
   "source": [
    "## Antithetic Sampling (Variance Reduction Technique)"
   ]
  },
  {
   "cell_type": "code",
   "execution_count": null,
   "metadata": {},
   "outputs": [],
   "source": [
    "def bmsim_vec(T, N, X0=0, mu=0, sigma=1, numsim=1, av=False):\n",
    "    \"\"\"Simulate `numsim` Brownian motion paths. If av=True, then 2*`numsim` paths are returned,\n",
    "    where paths numsim:2*numsim+1 are the antithetic paths.\"\"\"\n",
    "    deltaT = float(T)/N\n",
    "    tvec = np.linspace(0, T, N+1)\n",
    "    z = np.random.randn(numsim, N+1)\n",
    "    if av:\n",
    "        z = np.concatenate((z, -z))  #yields an array of shape (2*numsim,N+1); z stacked on -z\n",
    "    dX = mu*deltaT + sigma*np.sqrt(deltaT)*z\n",
    "    dX[:, 0] = 0.\n",
    "    X = np.cumsum(dX, axis=1)\n",
    "    X += X0    \n",
    "    return tvec, X"
   ]
  },
  {
   "cell_type": "code",
   "execution_count": null,
   "metadata": {},
   "outputs": [],
   "source": [
    "def asianmc_vec(S0, K, T, r, sigma, q, N, numsim=10000, av=False):\n",
    "    \"\"\"Monte Carlo price of an arithmetic average Asian call. \n",
    "    Pass `av=True` to use antithetic sampling.\"\"\"\n",
    "    X0 = np.log(S0)\n",
    "    nu = r-q-.5*sigma**2    \n",
    "    _, X = bmsim_vec(T, N, X0, nu, sigma, numsim, av)\n",
    "    S = np.exp(X)\n",
    "    payoffs = np.maximum(S[:, 1:].mean(axis=1)-K, 0.)\n",
    "    g = np.exp(-r*T)*payoffs\n",
    "    if av:\n",
    "        g = .5*(g[:numsim]+g[numsim:])\n",
    "    C = g.mean(); s = g.std()\n",
    "    zq = norm.ppf(0.975)\n",
    "    Cl = C - zq/np.sqrt(numsim)*s\n",
    "    Cu = C + zq/np.sqrt(numsim)*s\n",
    "    return C, Cl, Cu"
   ]
  },
  {
   "cell_type": "code",
   "execution_count": null,
   "metadata": {},
   "outputs": [],
   "source": [
    "S0 = 11; K = 10; T = 3/12.; r = 0.02; sigma = .3; q = 0.01; N = 10; numsim=10000\n",
    "np.random.seed(0)\n",
    "C, Cl, Cu = asianmc_vec(S0, K, T, r, sigma, q, N, numsim, av=False)\n",
    "C, Cu-Cl"
   ]
  },
  {
   "cell_type": "code",
   "execution_count": null,
   "metadata": {},
   "outputs": [],
   "source": []
  },
  {
   "cell_type": "code",
   "execution_count": null,
   "metadata": {},
   "outputs": [],
   "source": []
  },
  {
   "cell_type": "code",
   "execution_count": null,
   "metadata": {},
   "outputs": [],
   "source": []
  },
  {
   "cell_type": "markdown",
   "metadata": {},
   "source": [
    "## CONTROL VARIATES "
   ]
  },
  {
   "cell_type": "code",
   "execution_count": null,
   "metadata": {},
   "outputs": [],
   "source": []
  }
 ],
 "metadata": {
  "kernelspec": {
   "display_name": "Python 3",
   "language": "python",
   "name": "python3"
  },
  "language_info": {
   "codemirror_mode": {
    "name": "ipython",
    "version": 3
   },
   "file_extension": ".py",
   "mimetype": "text/x-python",
   "name": "python",
   "nbconvert_exporter": "python",
   "pygments_lexer": "ipython3",
   "version": "3.8.5"
  }
 },
 "nbformat": 4,
 "nbformat_minor": 4
}
