{
 "cells": [
  {
   "cell_type": "markdown",
   "metadata": {},
   "source": [
    "## DERIVATIVES PRICER \n",
    "* Code is centered around tree-pricing models and monte carlo simulations for traditional options (European and American calls and puts) and some exotic options (Asian)"
   ]
  },
  {
   "cell_type": "markdown",
   "metadata": {},
   "source": [
    "## TO DO: \n",
    "\n",
    "* Add vectorised MC \n",
    "* Add variance reduction methods to MC\n",
    "* Show how non-closed solution american options can be priced from the base of the asian MC sim\n",
    "* Add visuals for demonstrating the impact of IV on pricing\n",
    "\n",
    "###  Future Expansion Content \n",
    "* Add GARCH models for volatility forecasts/estimates\n",
    "    * May move to separate project\n",
    "* Price and backtest real traded options to see the accuracy of said models in practice (ex. liquidity constraints)\n",
    "\n",
    "\n",
    "* Find a proper real-life data source to create more robust examples\n",
    "    * Potential Sources:\n",
    "        * https://finance.yahoo.com/quote/%5ESPX/options?guce_referrer=aHR0cDovL2xvY2FsaG9zdDo4ODg4Lw&guce_referrer_sig=AQAAAJUeFD2zHulQJDrOgwLtyv-FW-lil1QsNe3h00p50uKsA4L4mKOpmN9jBZXdlzRIx2B-NivxYckMXQSwP3T3DzQyM0PdQ1t1hfrYDqgFKRRAuvBUOlS-JFjdfxwWN0U9_BHvujq_PlghcFhdQhcvnLrDonM3ti4yhPu1MD8jBksd&p=%5ESPX&straddle=false\n",
    "        * https://www2.asx.com.au/markets/trade-our-derivatives-market/derivatives-market-prices/single-stock-derivatives?expiryMonths=Feb+2021&expiryMonths=Mar+2021&expiryMonths=Apr+2021&expiryMonths=May+2021&expiryMonths=Jun+2021&expiryMonths=Jul+2021&expiryMonths=Aug+2021&expiryMonths=Sep+2021&expiryMonths=Oct+2021&expiryMonths=Nov+2021&expiryMonths=Dec+2021&expiryMonths=Jan+2022&expiryMonths=Feb+2022&expiryMonths=Mar+2022&expiryMonths=Apr+2022&expiryMonths=May+2022&expiryMonths=Jun+2022&expiryMonths=Jul+2022&expiryMonths=Aug+2022&expiryMonths=Sep+2022&expiryMonths=Oct+2022&expiryMonths=Nov+2022&expiryMonths=Dec+2022&expiryMonths=Jan+2023&expiryMonths=Feb+2023&expiryMonths=Mar+2023&expiryMonths=Apr+2023&expiryMonths=May+2023&expiryMonths=Jun+2023&expiryMonths=Jul+2023&expiryMonths=Aug+2023&expiryMonths=Sep+2023&expiryMonths=Oct+2023&expiryMonths=Nov+2023&expiryMonths=Dec+2023&expiryMonths=Jan+2024&expiryMonths=Feb+2024&expiryMonths=Mar+2024&expiryMonths=Apr+2024&expiryMonths=May+2024&expiryMonths=Jun+2024&expiryMonths=Jul+2024&expiryMonths=Aug+2024&expiryMonths=Sep+2024&expiryMonths=Oct+2024&expiryMonths=Nov+2024&expiryMonths=Dec+2024&expiryMonths=Jan+2025"
   ]
  },
  {
   "cell_type": "code",
   "execution_count": null,
   "metadata": {},
   "outputs": [],
   "source": []
  },
  {
   "cell_type": "code",
   "execution_count": 1,
   "metadata": {},
   "outputs": [],
   "source": [
    "## import packages\n",
    "from scipy.stats import norm\n",
    "from scipy.optimize import brentq\n",
    "import numpy as np\n",
    "import matplotlib.pyplot as plt\n",
    "import pandas as pd\n",
    "#import pandas_datareader.data as web\n",
    "%matplotlib inline"
   ]
  },
  {
   "cell_type": "code",
   "execution_count": null,
   "metadata": {
    "pycharm": {
     "name": "#%%\n"
    }
   },
   "outputs": [],
   "source": []
  },
  {
   "cell_type": "code",
   "execution_count": null,
   "metadata": {
    "pycharm": {
     "name": "#%%\n"
    }
   },
   "outputs": [],
   "source": []
  },
  {
   "cell_type": "code",
   "execution_count": null,
   "metadata": {
    "pycharm": {
     "name": "#%%\n"
    }
   },
   "outputs": [],
   "source": []
  },
  {
   "cell_type": "markdown",
   "metadata": {},
   "source": [
    "## BLACKSCHOLES - BASELINE\n",
    "* A CLOSED FORM SOLUTION FOR EUROPEAN OPTIONS\n",
    "\n",
    "### RESTRICTIVE ASSUMPTIONS OF BLACKSCHOLES MODEL (BSM):\n",
    "* Only works for European options (exercised at expiration)\n",
    "* No dividends paid out during the option's life, but an optional adjustment for averaged dividend yield is possible\n",
    "    * NOTE: traditional assumption is no dividends whatsoever\n",
    "* No transaction or comissions costs\n",
    "* Returns are log-normally distributed\n",
    "\n",
    "### Parameters:\n",
    "    * S0 = stock price\n",
    "    * K = Strike\n",
    "    * T = time to maturity E.G. (3/12) = 3M \n",
    "    * r = risk-free rate (discount rate)\n",
    "    * sigma = volatility\n",
    "    * q = (default=0) dividend % yield "
   ]
  },
  {
   "cell_type": "code",
   "execution_count": 2,
   "metadata": {
    "pycharm": {
     "name": "#%%\n"
    }
   },
   "outputs": [],
   "source": [
    "def blackscholes(S0, K, T, r, sigma, Type='call', q=0):\n",
    "    \"\"\"\n",
    "    Price of a European (call or put) in the Black-Scholes model with optional dividend parameter (default=0)\n",
    "    \n",
    "    \"\"\"\n",
    "    \n",
    "    d1 = (np.log(S0)-np.log(K)+((r-q)+sigma**2/2)*T)/(sigma*np.sqrt(T))\n",
    "    d2 = d1-sigma*np.sqrt(T)\n",
    "    \n",
    "    if Type=='call':\n",
    "        return S0*norm.cdf(d1)-np.exp((-r-q)*T)*K*norm.cdf(d2)\n",
    "\n",
    "    elif Type =='put': \n",
    "        return K*np.exp((-r-q)*T)*norm.cdf(-d2) - S0*np.exp((-r-q)*T)*norm.cdf(-d1)\n",
    "\n",
    "    # intentionally catch potential mistypes instead of just an else=put set-up\n",
    "    else:\n",
    "        raise TypeError(\"Option type is not valid, choose from: ['call','put']\")"
   ]
  },
  {
   "cell_type": "code",
   "execution_count": 3,
   "metadata": {},
   "outputs": [],
   "source": [
    "# hypothetical parameters:\n",
    "S0=11.; K=10.; T=3/12.; r=.02; sigma=.3"
   ]
  },
  {
   "cell_type": "code",
   "execution_count": 4,
   "metadata": {
    "pycharm": {
     "name": "#%%\n"
    }
   },
   "outputs": [
    {
     "data": {
      "text/plain": [
       "1.2858368491569285"
      ]
     },
     "execution_count": 4,
     "metadata": {},
     "output_type": "execute_result"
    }
   ],
   "source": [
    "blackscholes(S0, K, T, r, sigma, Type='call')"
   ]
  },
  {
   "cell_type": "code",
   "execution_count": 5,
   "metadata": {},
   "outputs": [
    {
     "data": {
      "text/plain": [
       "0.24849879216819515"
      ]
     },
     "execution_count": 5,
     "metadata": {},
     "output_type": "execute_result"
    }
   ],
   "source": [
    "blackscholes(S0, K, T, r, sigma, Type='put')"
   ]
  },
  {
   "cell_type": "code",
   "execution_count": null,
   "metadata": {},
   "outputs": [],
   "source": []
  },
  {
   "cell_type": "markdown",
   "metadata": {},
   "source": [
    "### PASSING IN AN ARRAY OF STRIKES\n",
    "* instead of a singular value for strike (K) - can visualise the price of the option across an array of different strike values"
   ]
  },
  {
   "cell_type": "code",
   "execution_count": 22,
   "metadata": {},
   "outputs": [
    {
     "data": {
      "text/plain": [
       "array([ 8.,  9., 10., 11., 12., 13., 14., 15., 16., 17.])"
      ]
     },
     "execution_count": 22,
     "metadata": {},
     "output_type": "execute_result"
    }
   ],
   "source": [
    "#e.g. of range of strikes\n",
    "np.linspace(8, 17, 10)"
   ]
  },
  {
   "cell_type": "code",
   "execution_count": 23,
   "metadata": {
    "pycharm": {
     "name": "#%%\n"
    }
   },
   "outputs": [
    {
     "data": {
      "text/plain": [
       "array([3.04764278e+00, 2.10292676e+00, 1.28583685e+00, 6.83793268e-01,\n",
       "       3.15424426e-01, 1.27387743e-01, 4.57330579e-02, 1.48431228e-02,\n",
       "       4.42638119e-03, 1.23061993e-03])"
      ]
     },
     "execution_count": 23,
     "metadata": {},
     "output_type": "execute_result"
    }
   ],
   "source": [
    "# pass in this array of strike values into the black scholes function to see prices\n",
    "Ks = np.linspace(8, 17, 10)\n",
    "blackscholes(S0, Ks, T, r, sigma, Type='call', q=0)"
   ]
  },
  {
   "cell_type": "code",
   "execution_count": 26,
   "metadata": {
    "pycharm": {
     "name": "#%%\n"
    }
   },
   "outputs": [
    {
     "data": {
      "image/png": "[encoded data removed]",
      "text/plain": [
       "<Figure size 432x288 with 1 Axes>"
      ]
     },
     "metadata": {
      "needs_background": "light"
     },
     "output_type": "display_data"
    }
   ],
   "source": [
    "# plot the impact of strike (K) on prices (call)\n",
    "plt.plot(Ks, blackscholes(S0, Ks, T, r, sigma, Type='call', q=0))\n",
    "plt.xlabel(\"$Strike (K)$\")\n",
    "plt.ylabel(\"Option Price\")\n",
    "plt.title(\"Call Option Price Curve Relative to Strikes\");"
   ]
  },
  {
   "cell_type": "code",
   "execution_count": null,
   "metadata": {},
   "outputs": [],
   "source": []
  },
  {
   "cell_type": "code",
   "execution_count": null,
   "metadata": {},
   "outputs": [],
   "source": []
  },
  {
   "cell_type": "markdown",
   "metadata": {},
   "source": [
    "## IMPLIED VOLATILITY\n",
    "\n",
    "* The *implied volatility* (IV, $\\sigma _{I}$) of an option is that value of $\\sigma $ which equates the BS model price to the observed market price $C_{0}^{obs}$, i.e., it solves\n",
    "<br><br>\n",
    "$$\n",
    "C_{0}^{obs}=BS(S_{0},K,T,r,\\sigma_I).\n",
    "$$\n",
    "<br>\n",
    "* If the BS assumptions were correct, then any option traded on the asset should have the same IV, which should in turn equal historical volatility.\n",
    "\n",
    "* In practice, options with different strikes $K$ and hence *moneyness* $K/S_{0}$ have different IVs: this gives rise to a *volatility smile* or *smirk/skew*.\n",
    "\n",
    "    * Also, options with different times to maturity have different IVs: this yields a *volatility term structure*.\n",
    "\n",
    "* These phenomena are evidence of a failure of the assumptions of the Black-Scholes model, most importantly that of a constant volatility $\\sigma$."
   ]
  },
  {
   "cell_type": "code",
   "execution_count": 31,
   "metadata": {
    "pycharm": {
     "name": "#%%\n"
    }
   },
   "outputs": [],
   "source": [
    "def impvol(S0, K, T, r, C_obs, Type='call'): \n",
    "    \"\"\"\n",
    "    Implied Black-Scholes volatility- With Root Finding Function: Scipy Brentq\n",
    "    \n",
    "    \"\"\"\n",
    "    \n",
    "    ## if != call; can convert to call price via parity\n",
    "    if Type == 'put':  \n",
    "        C_obs = C_obs+S0-np.exp(-r*T)*K\n",
    "        \n",
    "    ## else if type = call (function default behaviour)    \n",
    "    # theranchi bounds\n",
    "    L = -2*norm.ppf((S0-C_obs)/(2.0*min(S0, np.exp(-r*T)*K)))/np.sqrt(T)\n",
    "    U = -2*norm.ppf((S0-C_obs)/(S0+np.exp(-r*T)*K))/np.sqrt(T)\n",
    "    \n",
    "    #Partial application would be:  f(s)=BS(S0, K, T, r, s)-C_obs.\n",
    "    return brentq(lambda s: blackscholes(S0, K, T, r, s)-C_obs, L, U)  "
   ]
  },
  {
   "cell_type": "code",
   "execution_count": 32,
   "metadata": {
    "pycharm": {
     "name": "#%%\n"
    }
   },
   "outputs": [],
   "source": [
    "## dummy data for now (C_obs = call price observed in the market)\n",
    "C_obs=3 \n",
    "\n",
    "# hypothetical parameters:\n",
    "S0=11.; K=10.; T=3/12.; r=.02; sigma=.3; N=500;"
   ]
  },
  {
   "cell_type": "code",
   "execution_count": 33,
   "metadata": {},
   "outputs": [
    {
     "name": "stdout",
     "output_type": "stream",
     "text": [
      "Implied Volatility: 1.1854766702441244\n"
     ]
    }
   ],
   "source": [
    "IV = impvol(S0, K, T, r, C_obs)\n",
    "print(\"Implied Volatility: {}\".format(IV))"
   ]
  },
  {
   "cell_type": "code",
   "execution_count": 49,
   "metadata": {},
   "outputs": [
    {
     "data": {
      "text/plain": [
       "3.0000000000000178"
      ]
     },
     "execution_count": 49,
     "metadata": {},
     "output_type": "execute_result"
    }
   ],
   "source": [
    "# equivalent to re-running the blackscholes from above with the implied volatility (IV) in place of sigma\n",
    "blackscholes(S0, K, T, r, IV) # IV replaces sigma\n",
    "\n",
    "# returns the original passed value for C_obs of ~ 3.0"
   ]
  },
  {
   "cell_type": "markdown",
   "metadata": {},
   "source": [
    "* This data is for illustrative purposes, the level of implied volatility is very high as the call option price is very high relative to the \"moneyness\" of the option (K/S); additionally, a high IV pushes up the value of both call and put options"
   ]
  },
  {
   "cell_type": "code",
   "execution_count": null,
   "metadata": {},
   "outputs": [],
   "source": []
  },
  {
   "cell_type": "code",
   "execution_count": null,
   "metadata": {
    "pycharm": {
     "name": "#%%\n"
    }
   },
   "outputs": [],
   "source": []
  },
  {
   "cell_type": "markdown",
   "metadata": {},
   "source": [
    "## TREE OPTION PRICING \n",
    "* Specifications: \n",
    "    * Call / Put\n",
    "    * American / European"
   ]
  },
  {
   "cell_type": "code",
   "execution_count": 15,
   "metadata": {
    "pycharm": {
     "name": "#%%\n"
    }
   },
   "outputs": [],
   "source": [
    "def optiontree_flexible(S0, K, T, r, sigma, N, Type='call', option_spec='american'):\n",
    "    \"\"\"\n",
    "    Calculate (American or European) (call & put) prices based on a N-step binomial tree: \n",
    "    \"\"\"\n",
    "    \n",
    "    # define delta_t (Time to maturity / number of steps)\n",
    "    deltaT = T / float(N)\n",
    "    \n",
    "    # define the factor by which the (up) movement rises\n",
    "    u = np.exp(sigma*np.sqrt(deltaT))\n",
    "    \n",
    "    # define d in such a way the tree is recombinant \n",
    "    d = 1.0 / u\n",
    "    \n",
    "    # define probabilities according to the theory of risk neutral valuation\n",
    "    p = (np.exp(r*deltaT)-d) / (u-d)\n",
    "    \n",
    "    # probabilities (up) and (down) = piu and pid respectively\n",
    "    piu = np.exp(-r*deltaT) * p\n",
    "    pid = np.exp(-r*deltaT) * (1-p)\n",
    "    \n",
    "    # calculate the stock price tree (stock price at origination * up(down) movement factors relative to position in tree\n",
    "    S = S0 * u**np.arange(N+1) * d**(2*np.arange(N+1)[:, np.newaxis])\n",
    "    \n",
    "    #keep only the upper triangular part (as only non-negative payoffs contribute to price) \n",
    "    S = np.triu(S)  \n",
    "    \n",
    "    if Type =='call':\n",
    "        \n",
    "        # initialise the matrix of zeros to be written over for (when payoff > 0) for the payoff structure \n",
    "        C = np.zeros((N+1, N+1))\n",
    "        \n",
    "        # calculate the payoff for each node in the tree through to (N) steps: larger of (0, or stock - strike price) for call\n",
    "        C[:, N] = np.maximum(0, S[:, N]-K) \n",
    "\n",
    "        # iterate backwards through tree to multiply payoffs by probability of being in that node\n",
    "        for j in range(N-1, -1, -1):\n",
    "            C[:j+1, j] = piu * C[:j+1, j+1] + pid * C[1:j+2, j+1]\n",
    "            \n",
    "            # if option = American; calculate the value of early exercise\n",
    "            if option_spec == 'american':\n",
    "                C[:j+1, j] = np.maximum(K-S[:j+1, j], C[:j+1, j] )\n",
    "\n",
    "        # return the price of the option at origination (which is the weighted sum of payoffs * probabilities) in the tree    \n",
    "        return  np.round(C[0, 0],6)\n",
    "    \n",
    "    elif Type =='put':\n",
    "        # initialise matrix of zeros (could use C again but for clarity, rename it to P)\n",
    "        P = np.zeros((N+1,N+1))\n",
    "        \n",
    "        # calculate payoff- for put is: maximum of (0, strike-stock)\n",
    "        P[:, N]=np.maximum(0, K-S[:, N])\n",
    "        \n",
    "        # iterate through tree of payoffs and probabilities\n",
    "        for j in range(N-1, -1, -1):\n",
    "            P[:j+1, j] = piu * P[:j+1, j+1] + pid * P[1:j+2, j+1]\n",
    "            \n",
    "            # if option = American; calculate the value of early exercise\n",
    "            if option_spec =='american':\n",
    "                P[:j+1, j] = np.maximum(P[:j+1, j], K-S[:j+1, j] )\n",
    "    \n",
    "        # return price at origination\n",
    "        return  np.round(P[0, 0],6)    \n",
    "    \n",
    "    "
   ]
  },
  {
   "cell_type": "code",
   "execution_count": 4,
   "metadata": {
    "pycharm": {
     "name": "#%%\n"
    }
   },
   "outputs": [],
   "source": [
    "# hypothetical parameters:\n",
    "S0=11.; K=10.; T=3/12.; r=.02; sigma=.3; N=500;"
   ]
  },
  {
   "cell_type": "code",
   "execution_count": 11,
   "metadata": {},
   "outputs": [
    {
     "data": {
      "text/plain": [
       "1.28574"
      ]
     },
     "execution_count": 11,
     "metadata": {},
     "output_type": "execute_result"
    }
   ],
   "source": [
    "optiontree_flexible(S0, K, T, r, sigma, N, Type='call', option_spec='european')"
   ]
  },
  {
   "cell_type": "code",
   "execution_count": 12,
   "metadata": {},
   "outputs": [
    {
     "data": {
      "text/plain": [
       "0.235864"
      ]
     },
     "execution_count": 12,
     "metadata": {},
     "output_type": "execute_result"
    }
   ],
   "source": [
    "optiontree_flexible(S0, K, T, r, sigma, N, Type='put', option_spec='european')"
   ]
  },
  {
   "cell_type": "code",
   "execution_count": 13,
   "metadata": {},
   "outputs": [
    {
     "data": {
      "text/plain": [
       "1.522124"
      ]
     },
     "execution_count": 13,
     "metadata": {},
     "output_type": "execute_result"
    }
   ],
   "source": [
    "optiontree_flexible(S0, K, T, r, sigma, N, Type='call', option_spec='american')"
   ]
  },
  {
   "cell_type": "code",
   "execution_count": 34,
   "metadata": {},
   "outputs": [
    {
     "data": {
      "text/plain": [
       "0.236918"
      ]
     },
     "execution_count": 34,
     "metadata": {},
     "output_type": "execute_result"
    }
   ],
   "source": [
    "optiontree_flexible(S0, K, T, r, sigma, N, Type='put', option_spec='american')"
   ]
  },
  {
   "cell_type": "code",
   "execution_count": null,
   "metadata": {
    "pycharm": {
     "name": "#%%\n"
    }
   },
   "outputs": [],
   "source": []
  },
  {
   "cell_type": "code",
   "execution_count": null,
   "metadata": {},
   "outputs": [],
   "source": []
  },
  {
   "cell_type": "code",
   "execution_count": null,
   "metadata": {},
   "outputs": [],
   "source": []
  },
  {
   "cell_type": "code",
   "execution_count": null,
   "metadata": {},
   "outputs": [],
   "source": []
  },
  {
   "cell_type": "code",
   "execution_count": null,
   "metadata": {},
   "outputs": [],
   "source": []
  },
  {
   "cell_type": "markdown",
   "metadata": {},
   "source": [
    "## INCOMPLETE !! \n",
    "\n",
    "\n",
    "\n",
    "# MONTE CARLO PRICING \n",
    "\n",
    "* The goal in Monte Carlo simulations is to obtain an estimate of (theta) denoted:\n",
    "\n",
    "$$\n",
    "\\theta\\equiv \\mathbb{E}[X],\n",
    "$$\n",
    "\n",
    "\n",
    "for some random variable $X$ with finite expectation. The assumption is that we have a means of sampling from the distribution of $X$, but no closed-form expression for $\\theta$. (As is the case for American options, for instance)\n",
    "* Suppose we have a sample $\\{X_i\\}_{i\\in\\{1,\\ldots,n\\}}$ of *independent* draws for $X$, and let\n",
    "$$\n",
    "\\bar{X}_n=\\frac{1}{n}\\sum_{i=1}^n X_i.\n",
    "$$\n",
    "* The sample average $\\bar{X}_n$ is an *unbiased estimator* of $\\theta$ : $\\mathbb{E}[\\bar{X}_n]=\\theta$.\n",
    "* The *weak law of large numbers* states that\n",
    "$$\n",
    "\\bar{X}_n\\stackrel p \\rightarrow \\theta,\n",
    "$$\n",
    "where the arrow denotes *convergence in probability*; i.e., as the sample size grows, $\\bar X_n$ becomes a better and better estimate of $\\theta$. \n",
    "    * Although, techniques exist to improve the estimate of $\\theta$ without having to infinitely grow the sample size. This project will include two such techniques: \n",
    "        * Antithetic sampling \n",
    "        * Control variates \n",
    "        \n",
    "        \n",
    "## MC PROCESS OUTLINE:\n",
    "* Thus, our strategy is to use a computer to draw $n$ (pseudo) random numbers $X_i$ from the distribution of $X$, and then estimate $\\theta$ as the sample mean of the $X_i$.\n",
    "* $n$ is called the number of *replications*.\n",
    "* For finite $n$, the sample average will be an approximation to $\\theta$. \n",
    "* It is usually desirable to have an estimate of the accuracy of this approximation. Such an estimate can be obtained from the *central limit theorem* (CLT), which states that\n",
    "$$\n",
    "\\sqrt{n}(\\bar{X}_n-\\theta)\\stackrel d\\rightarrow N\\left(0,\\sigma^2\\right),\n",
    "$$\n",
    "provided that $\\sigma^2$, the variance of $X$, is finite. The arrow denotes convergence in distribution\n",
    "    * this implies that for large $n$, $\\bar{X}_n$ has approximately a normal distribution.\n",
    "    \n",
    "    \n",
    "    \n",
    "* Of course $\\sigma^2$ is unknown, but we can estimate it in the traditional sense as\n",
    "$$\n",
    "\\hat{\\sigma}^2=\\frac{1}{n}\\sum_{i=1}^n \\left(\\bar{X}_n-X_i\\right)^2.\n",
    "$$\n",
    "\n",
    "### CONFIDENCE INTERVALS IN MC SIMULATIONS: \n",
    "* A 95% *confidence interval* (CI) is an interval $[c_l,c_u]$ with\n",
    "$\n",
    "\\mathbb{P}[c_l\\leq \\theta \\leq c_u]=0.95.\n",
    "$\n",
    "* The CLT implies that, in the limit as $n\\rightarrow\\infty$,\n",
    "\n",
    "\\begin{align*}\n",
    "\\mathbb{P}[-1.96 \\sigma\\leq \\sqrt{n}(\\bar{X}_n-\\theta)\\leq 1.96 \\sigma ]&=0.95\\Leftrightarrow\\\\\n",
    "\\mathbb{P}[\\bar{X}_n-1.96 \\frac{\\sigma}{\\sqrt{n}}\\leq \\theta\\leq \\bar{X}_n+1.96 \\frac{\\sigma}{\\sqrt{n}} ]&=0.95.\n",
    "\\end{align*}\n",
    "* Hence $c_l=\\bar{X}_n-1.96 \\frac{\\sigma}{\\sqrt{n}}$ and $c_u=\\bar{X}_n+1.96 \\frac{\\sigma}{\\sqrt{n}}$ is an asymptotically valid CI.\n",
    "* Note that $c_l$ and $c_u$ are random variables; we should interpret this as \"before the experiment is performed, there is a 95% chance that a CI computed according to this formula will contain $\\theta$\". \n",
    "    * After performing the experiment, this statement is not valid anymore; the interval is now fixed, and contains $\\theta$ with probability either 0 or 1.\n",
    "* The unknown parameter $\\sigma$ can be consistently estimated by $\\sqrt{\\hat{\\sigma}^2}$."
   ]
  },
  {
   "cell_type": "code",
   "execution_count": null,
   "metadata": {},
   "outputs": [],
   "source": []
  },
  {
   "cell_type": "markdown",
   "metadata": {},
   "source": [
    "## BRIEF INTRODUCTION TO BROWNIAN MOTION / GEOMETRIC BROWNIAN MOTION"
   ]
  },
  {
   "cell_type": "code",
   "execution_count": null,
   "metadata": {},
   "outputs": [],
   "source": [
    "# ADD EXPLANATION"
   ]
  },
  {
   "cell_type": "code",
   "execution_count": null,
   "metadata": {},
   "outputs": [],
   "source": []
  },
  {
   "cell_type": "code",
   "execution_count": 25,
   "metadata": {},
   "outputs": [],
   "source": [
    "def bmsim(T, N, X0=0, mu=0, sigma=1):\n",
    "    \"\"\"Simulate a Brownian motion path with X0/mu = 0 drift terms\"\"\"\n",
    "    \n",
    "    deltaT = float(T)/N\n",
    "    \n",
    "    #N+1 is one more than we need, actually. This way we won't have to grow dX by X0.\n",
    "    tvec = np.linspace(0, T, N+1)\n",
    "    z = np.random.randn(N+1)   \n",
    "    dX = mu*deltaT + sigma*np.sqrt(deltaT)*z  #X[j+1]-X[j]=mu*deltaT + sigma*np.sqrt(deltaT)*z[j].\n",
    "    dX[0] = 0.\n",
    "    X = np.cumsum(dX)\n",
    "    X += X0    \n",
    "    return tvec, X"
   ]
  },
  {
   "cell_type": "code",
   "execution_count": 4,
   "metadata": {},
   "outputs": [
    {
     "data": {
      "image/png": "[encoded data removed]",
      "text/plain": [
       "<Figure size 432x288 with 1 Axes>"
      ]
     },
     "metadata": {
      "needs_background": "light"
     },
     "output_type": "display_data"
    }
   ],
   "source": [
    "np.random.seed(0)\n",
    "tvec, W = bmsim(1, 1000)\n",
    "W = pd.Series(W, index=tvec)\n",
    "W.plot()\n",
    "plt.title('Simulated Brownian Motion Path')\n",
    "plt.xlabel(\"$t$\"); plt.ylabel(\"$W_t$\");"
   ]
  },
  {
   "cell_type": "code",
   "execution_count": null,
   "metadata": {},
   "outputs": [],
   "source": []
  },
  {
   "cell_type": "code",
   "execution_count": 20,
   "metadata": {},
   "outputs": [],
   "source": [
    "def gbmsim(T, N, S0=1, mu=0, sigma=1):\n",
    "    \"\"\"\n",
    "    Simulate a Geometric Brownian motion path with Mu (drift) = 0 and sigma = 1\n",
    "    \"\"\"\n",
    "    \n",
    "    deltaT = float(T)/N\n",
    "    \n",
    "    # create the linearly spaced vector of 0 through T, in increments of N + 1\n",
    "    tvec = np.linspace(0, T, N+1)\n",
    "    \n",
    "    # initialse random numbers through N + 1 for the shape\n",
    "    z = np.random.randn(N+1)  \n",
    "    \n",
    "    # initialise an array of zeros of the same shape (to be iterated over)\n",
    "    S = np.zeros_like(z)\n",
    "    \n",
    "    # define the starting point for the iteration to be (1)\n",
    "    S[0] = S0\n",
    "    \n",
    "    #Note: we can no longer vectorize this, because S[:, j] is needed for S[:, j+1].\n",
    "    for i in range(0, N): \n",
    "        S[i+1] = S[i] + mu*S[i]*deltaT + sigma*S[i]*np.sqrt(deltaT)*z[i+1]\n",
    "        \n",
    "    return tvec, S"
   ]
  },
  {
   "cell_type": "code",
   "execution_count": 24,
   "metadata": {},
   "outputs": [
    {
     "data": {
      "image/png": "[encoded data removed]",
      "text/plain": [
       "<Figure size 432x288 with 1 Axes>"
      ]
     },
     "metadata": {
      "needs_background": "light"
     },
     "output_type": "display_data"
    }
   ],
   "source": [
    "np.random.seed(0)\n",
    "tvec, S = gbmsim(1, 1000)\n",
    "S = pd.Series(S, index=tvec)\n",
    "S.plot()\n",
    "plt.title('Simulated Geometric Brownian Motion Path')\n",
    "# x label is time; y label is stock \n",
    "plt.xlabel(\"$t$\"); plt.ylabel(\"$S_t$\"); "
   ]
  },
  {
   "cell_type": "code",
   "execution_count": null,
   "metadata": {},
   "outputs": [],
   "source": []
  },
  {
   "cell_type": "code",
   "execution_count": null,
   "metadata": {},
   "outputs": [],
   "source": []
  },
  {
   "cell_type": "markdown",
   "metadata": {},
   "source": [
    "# ASIAN OPTIONS \n",
    "\n",
    "* The payoff of Asian options depends on the *average* price of the underlying, $\\bar{S}_T$. Types:\n",
    "  * Average price Asian call with payoff $(\\bar{S}_T-K)^+$;\n",
    "  * Average price Asian put with payoff $(K-\\bar{S}_T)^+$;\n",
    "  * Average strike Asian call with payoff $(S_T-\\bar{S}_T)^+$;\n",
    "  * Average strike Asian put with payoff $(\\bar{S}_T-S_T)^+$.\n",
    "\n",
    "\n",
    "* The type of average is important in the calculation - here we consider the arithmetic average: \n",
    "$$\n",
    "\\qquad\n",
    "\\frac{1}{N}\\sum_{i=1}^N S_{t_i}\n",
    "$$\n",
    "where the $t_i$ are a set of $N$ specified dates.\n",
    "\n",
    "## NOTE: An exact pricing formula exists only for a geometric average asian call, hence we rely upon a MC simulation\n",
    "* With the pricing formula\n",
    "$$\n",
    "C_{t}=e^{-r(T-t)}\\mathbb{E}^{\\mathbb{Q}}\\left[ \\left.\n",
    "C_{T}\\right\\vert \\mathcal{F}_{t}\\right] \n",
    "$$\n",
    "\n",
    "\n",
    "* The arithmetic average price call cannot be priced analytically, hence rely upon the MC simulation\n",
    "* The asian call's payoff is: \n",
    "$$\n",
    "C_T=(\\bar{S}_T-K)^+,\\quad\\mbox{where}\\quad \\bar{S}_T=\\frac{1}{N}\\sum_{i=1}^N S_{t_i},\n",
    "$$\n",
    "* The payoff is *path-dependent*, so we need to simulate the entire asset price path, not just $S_T$. (the final price at maturity)\n"
   ]
  },
  {
   "cell_type": "code",
   "execution_count": 40,
   "metadata": {},
   "outputs": [],
   "source": [
    "def asianmc(S0, K, T, r, sigma, q, N, numsim=10000):\n",
    "    \"\"\"\n",
    "    Monte Carlo price of an arithmetic average Asian call.\n",
    "    S0 = initial stock price\n",
    "    K = strike price\n",
    "    T = time to maturity\n",
    "    r = risk-free rate (discount rate)\n",
    "    sigma = volatility\n",
    "    q = dividend rate \n",
    "    N = number of steps\n",
    "    ## NOTE: (r-q) is the appropriate adjustment to the discount rate (r) by dividend rate (q)\n",
    "    \n",
    "    \"\"\"\n",
    "    \n",
    "    # simulate the log of the stock price \n",
    "    X0 = np.log(S0)\n",
    "    \n",
    "    # define our drift term for brownian motion \n",
    "    nu = r-q-.5*sigma**2\n",
    "    \n",
    "    # simulate the shape of zeros in the form of numsim\n",
    "    payoffs = np.zeros(numsim)\n",
    "    \n",
    "    # iterate through the number of simulations\n",
    "    for i in range(numsim):\n",
    "        _, X = bmsim(T, N, X0, nu, sigma) # just need (X), hence the underscore can be discarded\n",
    "        \n",
    "        # simulate the exponential of (X) the stock price path in the brownian motion simulation\n",
    "        S = np.exp(X)\n",
    "        \n",
    "        # apply our payoff function: note ignore S0 (originaiton price) in the mean\n",
    "        payoffs[i] = max(S[1:].mean()-K, 0.)  #We ignore S0 in the mean.\n",
    "    \n",
    "    # discount the payoffs \n",
    "    g = np.exp(-r*T)*payoffs\n",
    "    \n",
    "    # define the discounted payoffs mean and standard deviation\n",
    "    C = g.mean()\n",
    "    s = g.std()\n",
    "    \n",
    "    # define the normal distribution 97.5% percentage point function \n",
    "    zq = norm.ppf(0.975)\n",
    "    \n",
    "    # define our confidence interval for lower (cl) and upper(cu) (formula in markdown above)\n",
    "    Cl = C-(zq*s)/np.sqrt(numsim)\n",
    "    Cu = C+(zq*s)/np.sqrt(numsim)\n",
    "    \n",
    "    # return C (price of option) + confidence intervals \n",
    "    return C, Cl, Cu"
   ]
  },
  {
   "cell_type": "code",
   "execution_count": 38,
   "metadata": {},
   "outputs": [
    {
     "name": "stdout",
     "output_type": "stream",
     "text": [
      "Wall time: 527 ms\n"
     ]
    },
    {
     "data": {
      "text/plain": [
       "(1.0927262054551385, 1.0747653929130998, 1.1106870179971773)"
      ]
     },
     "execution_count": 38,
     "metadata": {},
     "output_type": "execute_result"
    }
   ],
   "source": [
    "%%time\n",
    "\n",
    "# define dummy data for testing purposes:\n",
    "S0 = 11; K = 10; T = 3/12.; r = 0.02; sigma = .3; q = 0.01; N = 10\n",
    "\n",
    "# ensure random seed for comparability\n",
    "np.random.seed(0)\n",
    "\n",
    "C0, Cl, Cu = asianmc(S0, K, T, r, sigma, q, N); C0, Cl, Cu"
   ]
  },
  {
   "cell_type": "code",
   "execution_count": 39,
   "metadata": {},
   "outputs": [
    {
     "name": "stdout",
     "output_type": "stream",
     "text": [
      "434 ms ± 3.61 ms per loop (mean ± std. dev. of 7 runs, 1 loop each)\n"
     ]
    }
   ],
   "source": [
    "%timeit asianmc(S0, K, T, r, sigma, q, N)"
   ]
  },
  {
   "cell_type": "code",
   "execution_count": null,
   "metadata": {},
   "outputs": [],
   "source": []
  },
  {
   "cell_type": "markdown",
   "metadata": {},
   "source": [
    "## VECTORISE THE ASIAN MC PRICER \n",
    "* compare the outputs and time to completion "
   ]
  },
  {
   "cell_type": "code",
   "execution_count": null,
   "metadata": {},
   "outputs": [],
   "source": [
    "## TBC "
   ]
  },
  {
   "cell_type": "code",
   "execution_count": 5,
   "metadata": {},
   "outputs": [],
   "source": [
    "#Note new input: numsim, the number of paths.\n",
    "## check -- error in code when plugging into MC! \n",
    "\n",
    "def bmsim_vec(T, N, X0=0, mu=0, sigma=1, numsim=1):  \n",
    "    \"\"\"Simulate `numsim` Brownian motion paths.\"\"\"\n",
    "    deltaT = float(T)/N\n",
    "    tvec = np.linspace(0, T, N+1)\n",
    "    z = np.random.randn(numsim, N+1)  \n",
    "    dX = mu*deltaT + sigma*np.sqrt(deltaT)*z\n",
    "    \n",
    "    dX[:, 0] = 0.  \n",
    "    X = np.cumsum(dX, axis=1)  \n",
    "    \n",
    "    X += X0    \n",
    "    return tvec, X"
   ]
  },
  {
   "cell_type": "code",
   "execution_count": null,
   "metadata": {},
   "outputs": [],
   "source": [
    "def asianmc_vec(S0, K, T, r, sigma, q, N, numsim=10000):\n",
    "    \"\"\"Monte Carlo price of an arithmetic average Asian call. Vectorised Version\"\"\"\n",
    "    X0 = np.log(S0)\n",
    "    nu = r-q-.5*sigma**2    \n",
    "    \n",
    "    #simulate all paths at once:\n",
    "    _, X = bmsim_vec(T, N, X0, nu, sigma, numsim)\n",
    "    S = np.exp(X)\n",
    "    payoffs = np.maximum(S[:, 1:].mean(axis=1)-K, 0.)  #S[1:]->S[:, 1:], max->maximum, mean()->mean(axis=1)\n",
    "    g = np.exp(-r*T)*payoffs\n",
    "    C = g.mean(); s = g.std()\n",
    "    zq = norm.ppf(0.975)\n",
    "    Cl = C - zq/np.sqrt(numsim)*s\n",
    "    Cu = C + zq/np.sqrt(numsim)*s\n",
    "    return C, Cl, Cu"
   ]
  },
  {
   "cell_type": "code",
   "execution_count": null,
   "metadata": {},
   "outputs": [],
   "source": []
  },
  {
   "cell_type": "code",
   "execution_count": null,
   "metadata": {},
   "outputs": [],
   "source": []
  },
  {
   "cell_type": "markdown",
   "metadata": {},
   "source": [
    "## Antithetic Sampling (Variance Reduction Technique)"
   ]
  },
  {
   "cell_type": "code",
   "execution_count": null,
   "metadata": {},
   "outputs": [],
   "source": [
    "def bmsim_vec(T, N, X0=0, mu=0, sigma=1, numsim=1, av=False):\n",
    "    \"\"\"\n",
    "    Simulate `numsim` Brownian motion paths. (Drift (mu) = 0)) \n",
    "    If av=True, then 2*`numsim` paths are returned,where paths numsim:2*numsim+1 are the antithetic paths.\n",
    "    \n",
    "    \"\"\"\n",
    "    \n",
    "    deltaT = float(T)/N\n",
    "    tvec = np.linspace(0, T, N+1)\n",
    "    z = np.random.randn(numsim, N+1)\n",
    "    if av:\n",
    "        z = np.concatenate((z, -z))  #yields an array of shape (2*numsim,N+1); z stacked on -z\n",
    "    dX = mu*deltaT + sigma*np.sqrt(deltaT)*z\n",
    "    dX[:, 0] = 0.\n",
    "    X = np.cumsum(dX, axis=1)\n",
    "    X += X0    \n",
    "    return tvec, X"
   ]
  },
  {
   "cell_type": "code",
   "execution_count": null,
   "metadata": {},
   "outputs": [],
   "source": [
    "# E.G. \n",
    "\n",
    "np.random.seed(0) \n",
    "tvec, W = bmsim_vec(1, 1000, numsim=3, av=True)\n",
    "W = pd.DataFrame(W.transpose(), index=tvec)\n",
    "W.plot().legend().remove()\n",
    "plt.title('Regular and Antithetic Brownian Motion Paths')\n",
    "plt.xlabel(\"$t$\"); plt.ylabel(\"$W_t$\");"
   ]
  },
  {
   "cell_type": "code",
   "execution_count": null,
   "metadata": {},
   "outputs": [],
   "source": []
  },
  {
   "cell_type": "code",
   "execution_count": null,
   "metadata": {},
   "outputs": [],
   "source": []
  },
  {
   "cell_type": "code",
   "execution_count": null,
   "metadata": {},
   "outputs": [],
   "source": []
  },
  {
   "cell_type": "code",
   "execution_count": null,
   "metadata": {},
   "outputs": [],
   "source": [
    "def asianmc_vec(S0, K, T, r, sigma, q, N, numsim=10000, ant_sampling=False):\n",
    "    \"\"\"\n",
    "    Monte Carlo price of an arithmetic average Asian call. \n",
    "    \n",
    "    Change: 'ant_sampling=True' to use antithetic sampling; else, 'ant_sampling=False' by default, returns regular MC method\n",
    "    \"\"\"\n",
    "    \n",
    "    X0 = np.log(S0)\n",
    "    nu = r-q-.5*sigma**2    \n",
    "    _, X = bmsim_vec(T, N, X0, nu, sigma, numsim, av)\n",
    "    S = np.exp(X)\n",
    "    payoffs = np.maximum(S[:, 1:].mean(axis=1)-K, 0.)\n",
    "    g = np.exp(-r*T)*payoffs\n",
    "    \n",
    "    if ant_sampling:\n",
    "        g = .5*(g[:numsim]+g[numsim:])\n",
    "    C = g.mean(); s = g.std()\n",
    "    zq = norm.ppf(0.975)\n",
    "    Cl = C - zq/np.sqrt(numsim)*s\n",
    "    Cu = C + zq/np.sqrt(numsim)*s\n",
    "    return C, Cl, Cu"
   ]
  },
  {
   "cell_type": "code",
   "execution_count": null,
   "metadata": {},
   "outputs": [],
   "source": [
    "S0 = 11; K = 10; T = 3/12.; r = 0.02; sigma = .3; q = 0.01; N = 10; numsim=10000\n",
    "np.random.seed(0)\n",
    "C, Cl, Cu = asianmc_vec(S0, K, T, r, sigma, q, N, numsim, av=False)\n",
    "C, Cu-Cl"
   ]
  },
  {
   "cell_type": "code",
   "execution_count": null,
   "metadata": {},
   "outputs": [],
   "source": [
    "# compare with AV\n",
    "np.random.seed(0)\n",
    "C, Cl, Cu = asianmc_vec(S0, K, T, r, sigma, q, N, int(numsim/2), True)  #Using int() since some function expect an integer.\n",
    "C, Cu-Cl"
   ]
  },
  {
   "cell_type": "code",
   "execution_count": null,
   "metadata": {},
   "outputs": [],
   "source": []
  },
  {
   "cell_type": "code",
   "execution_count": null,
   "metadata": {},
   "outputs": [],
   "source": []
  },
  {
   "cell_type": "markdown",
   "metadata": {},
   "source": [
    "## CONTROL VARIATES "
   ]
  },
  {
   "cell_type": "code",
   "execution_count": null,
   "metadata": {},
   "outputs": [],
   "source": [
    "def asiancall_geo(S0, K, T, r, sigma, q, N):\n",
    "    \"\"\"\n",
    "    Price of a geometric average price asian call.\n",
    "    \n",
    "    \"\"\"\n",
    "    \n",
    "    shat = sigma * np.sqrt(((N+1) * (2*N+1)) / (6.0 * N**2))\n",
    "    mhat = shat**2/2.0 + (r-q-.5*sigma**2) * (N+1)/(2.0*N)\n",
    "    \n",
    "    d1 = (np.log(S0/float(K)) + T*(mhat + 0.5*shat**2)) / shat / np.sqrt(T)\n",
    "    d2 = d1-shat*np.sqrt(T)\n",
    "    \n",
    "    price = np.exp((mhat-r)*T)*S0*norm.cdf(d1)-np.exp(-r*T)*K*norm.cdf(d2)\n",
    "    return price"
   ]
  },
  {
   "cell_type": "code",
   "execution_count": null,
   "metadata": {},
   "outputs": [],
   "source": [
    "def asianmc_cv(S0, K, T, r, sigma, q, N, numsim=10000):\n",
    "    \"\"\"\n",
    "    Monte Carlo price of an arithmetic average Asian call using control variates.\"\"\"\n",
    "    \n",
    "    # define starting point for the brownian motion as the log of stock price\n",
    "    X0 = np.log(S0)\n",
    "    \n",
    "    # define our discounted (r-q) drift term  (functions as an \"expected return\" of the stock price)\n",
    "    nu = r-q-.5*sigma**2    \n",
    "    \n",
    "    # simulate all possible stock paths originating from (X0) and with \n",
    "    _, X = bmsim_vec(T, N, X0, nu, sigma, numsim)\n",
    "    \n",
    "    # convert the brownian motion simulated values to prices\n",
    "    S = np.exp(X)\n",
    "    \n",
    "    \n",
    "    mu = asiancall_geo(S0, K, T, r, sigma, q, N)\n",
    "    payoffs = np.maximum(S[:, 1:].mean(axis=1)-K, 0.)\n",
    "    control = np.maximum(np.exp(X[:, 1:].mean(axis=1))-K, 0.)\n",
    "    c = (np.cov(payoffs, control)/np.var(control))[0, 1]  #Select element (0,1) in a (2,2) var/cov-matrix.\n",
    "    g = np.exp(-r*T)*payoffs - c*(np.exp(-r*T)*control-mu)\n",
    "    C = g.mean(); s = g.std()\n",
    "    zq = norm.ppf(0.975)\n",
    "    Cl = C - zq/np.sqrt(numsim)*s\n",
    "    Cu = C + zq/np.sqrt(numsim)*s\n",
    "    return C, Cl, Cu"
   ]
  },
  {
   "cell_type": "code",
   "execution_count": null,
   "metadata": {},
   "outputs": [],
   "source": []
  },
  {
   "cell_type": "code",
   "execution_count": null,
   "metadata": {},
   "outputs": [],
   "source": [
    "np.random.seed(0)\n",
    "C, Cl, Cu = asianmc_cv(S0, K, T, r, sigma, q, 10, numsim)\n",
    "C, Cu-Cl"
   ]
  },
  {
   "cell_type": "code",
   "execution_count": null,
   "metadata": {},
   "outputs": [],
   "source": [
    "%timeit asianmc_cv(S0, K, T, r, sigma, q, N, numsim)"
   ]
  },
  {
   "cell_type": "code",
   "execution_count": null,
   "metadata": {},
   "outputs": [],
   "source": []
  },
  {
   "cell_type": "code",
   "execution_count": null,
   "metadata": {},
   "outputs": [],
   "source": []
  },
  {
   "cell_type": "markdown",
   "metadata": {},
   "source": [
    "## GREEKS\n",
    "* Delta: the sensitivity of an option’s price changes relative to the changes in the underlying asset’s price.\n",
    "* Gamma: the delta’s change relative to the changes in the price of the underlying asset.\n",
    "* Vega: the sensitivity of an option price relative to the volatility of the underlying asset.\n",
    "* Theta: the sensitivity of the option price relative to the option’s time to maturity.\n",
    "* Rho: the sensitivity of the option price relative to interest rates."
   ]
  },
  {
   "cell_type": "code",
   "execution_count": null,
   "metadata": {},
   "outputs": [],
   "source": [
    "## TBC "
   ]
  },
  {
   "cell_type": "code",
   "execution_count": null,
   "metadata": {},
   "outputs": [],
   "source": [
    "def call_delta(S,K,T,r,sigma):\n",
    "    return norm.cdf(d1(S,K,T,r,sigma))\n",
    "def call_gamma(S,K,T,r,sigma):\n",
    "    return norm.pdf(d1(S,K,T,r,sigma))/(S*sigma*sqrt(T))\n",
    "def call_vega(S,K,T,r,sigma):\n",
    "    return 0.01*(S*norm.pdf(d1(S,K,T,r,sigma))*sqrt(T))\n",
    "def call_theta(S,K,T,r,sigma):\n",
    "    return 0.01*(-(S*norm.pdf(d1(S,K,T,r,sigma))*sigma)/(2*sqrt(T)) - r*K*exp(-r*T)*norm.cdf(d2(S,K,T,r,sigma)))\n",
    "def call_rho(S,K,T,r,sigma):\n",
    "    return 0.01*(K*T*exp(-r*T)*norm.cdf(d2(S,K,T,r,sigma)))\n",
    "    \n",
    "def put_delta(S,K,T,r,sigma):\n",
    "    return -norm.cdf(-d1(S,K,T,r,sigma))\n",
    "def put_gamma(S,K,T,r,sigma):\n",
    "    return norm.pdf(d1(S,K,T,r,sigma))/(S*sigma*sqrt(T))\n",
    "def put_vega(S,K,T,r,sigma):\n",
    "    return 0.01*(S*norm.pdf(d1(S,K,T,r,sigma))*sqrt(T))\n",
    "def put_theta(S,K,T,r,sigma):\n",
    "    return 0.01*(-(S*norm.pdf(d1(S,K,T,r,sigma))*sigma)/(2*sqrt(T)) + r*K*exp(-r*T)*norm.cdf(-d2(S,K,T,r,sigma)))\n",
    "def put_rho(S,K,T,r,sigma):\n",
    "    return 0.01*(-K*T*exp(-r*T)*norm.cdf(-d2(S,K,T,r,sigma)))"
   ]
  }
 ],
 "metadata": {
  "kernelspec": {
   "display_name": "Python 3",
   "language": "python",
   "name": "python3"
  },
  "language_info": {
   "codemirror_mode": {
    "name": "ipython",
    "version": 3
   },
   "file_extension": ".py",
   "mimetype": "text/x-python",
   "name": "python",
   "nbconvert_exporter": "python",
   "pygments_lexer": "ipython3",
   "version": "3.8.5"
  }
 },
 "nbformat": 4,
 "nbformat_minor": 4
}
