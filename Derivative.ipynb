{
 "cells": [
  {
   "cell_type": "markdown",
   "metadata": {},
   "source": [
    "## DERIVATIVES PRICER \n",
    "* Code is centered around tree-pricing models and monte carlo simulations"
   ]
  },
  {
   "cell_type": "markdown",
   "metadata": {},
   "source": [
    "### TO DO: \n",
    "* Add vectorised MC \n",
    "* Add tree methods\n",
    "* Add variance reduction methods to MC\n",
    "* Show how non-closed solution american options can be priced from the base of the asian MC sim\n",
    "* Add visuals for demonstrating the impact of IV on pricing\n",
    "* Add GARCH models for volatility forecasting\n",
    "* Price and backtest real traded options to see the accuracy of said models in practice (ex. liquidity constraints)"
   ]
  },
  {
   "cell_type": "code",
   "execution_count": null,
   "metadata": {},
   "outputs": [],
   "source": []
  },
  {
   "cell_type": "code",
   "execution_count": 1,
   "metadata": {},
   "outputs": [],
   "source": [
    "## import packages\n",
    "from scipy.stats import norm\n",
    "import numpy as np\n",
    "import matplotlib.pyplot as plt\n",
    "import pandas as pd\n",
    "%matplotlib inline"
   ]
  },
  {
   "cell_type": "code",
   "execution_count": null,
   "metadata": {},
   "outputs": [],
   "source": []
  },
  {
   "cell_type": "code",
   "execution_count": null,
   "metadata": {},
   "outputs": [],
   "source": []
  },
  {
   "cell_type": "code",
   "execution_count": 8,
   "metadata": {},
   "outputs": [],
   "source": [
    "def bmsim(T, N, X0=0, mu=0, sigma=1):\n",
    "    \"\"\"Simulate a Brownian motion path with X0/mu = 0 for drift terms\"\"\"\n",
    "    \n",
    "    deltaT = float(T)/N\n",
    "    \n",
    "    #N+1 is one more than we need, actually. This way we won't have to grow dX by X0.\n",
    "    tvec = np.linspace(0, T, N+1)\n",
    "    z = np.random.randn(N+1)   \n",
    "    dX = mu*deltaT + sigma*np.sqrt(deltaT)*z  #X[j+1]-X[j]=mu*deltaT + sigma*np.sqrt(deltaT)*z[j].\n",
    "    dX[0] = 0.\n",
    "    X = np.cumsum(dX)\n",
    "    X += X0    \n",
    "    return tvec, X"
   ]
  },
  {
   "cell_type": "code",
   "execution_count": 9,
   "metadata": {},
   "outputs": [],
   "source": [
    "\n",
    "def asianmc(S0, K, T, r, sigma, q, N, numsim=10000):\n",
    "    \"\"\"Monte Carlo price of an arithmetic average Asian call.\"\"\"\n",
    "    X0 = np.log(S0)\n",
    "    nu = r-q-.5*sigma**2\n",
    "    payoffs = np.zeros(numsim)\n",
    "    for i in range(numsim):\n",
    "        _, X = bmsim(T, N, X0, nu, sigma)  #Convention: underscore holds value to be discarded.\n",
    "        S = np.exp(X)\n",
    "        payoffs[i] = max(S[1:].mean()-K, 0.)  #We ignore S0 in the mean.\n",
    "    g = np.exp(-r*T)*payoffs\n",
    "    C = g.mean(); s = g.std()\n",
    "    zq = norm.ppf(0.975)\n",
    "    Cl = C-(zq*s)/np.sqrt(numsim)\n",
    "    Cu = C+(zq*s)/np.sqrt(numsim)\n",
    "    return C, Cl, Cu"
   ]
  },
  {
   "cell_type": "code",
   "execution_count": 10,
   "metadata": {},
   "outputs": [
    {
     "name": "stdout",
     "output_type": "stream",
     "text": [
      "Wall time: 511 ms\n"
     ]
    },
    {
     "data": {
      "text/plain": [
       "(1.0927262054551385, 1.0747653929130998, 1.1106870179971773)"
      ]
     },
     "execution_count": 10,
     "metadata": {},
     "output_type": "execute_result"
    }
   ],
   "source": [
    "%%time\n",
    "\n",
    "S0 = 11; K = 10; T = 3/12.; r = 0.02; sigma = .3; q = 0.01; N = 10\n",
    "\n",
    "# ensure random seed for comparability\n",
    "np.random.seed(0)\n",
    "\n",
    "C0, Cl, Cu = asianmc(S0, K, T, r, sigma, q, N); C0, Cl, Cu"
   ]
  },
  {
   "cell_type": "code",
   "execution_count": null,
   "metadata": {},
   "outputs": [],
   "source": []
  },
  {
   "cell_type": "code",
   "execution_count": null,
   "metadata": {},
   "outputs": [],
   "source": []
  },
  {
   "cell_type": "code",
   "execution_count": null,
   "metadata": {},
   "outputs": [],
   "source": [
    "## vectorise the BM paths"
   ]
  },
  {
   "cell_type": "code",
   "execution_count": 5,
   "metadata": {},
   "outputs": [],
   "source": [
    "#Note new input: numsim, the number of paths.\n",
    "## check -- error in code when plugging into MC! \n",
    "\n",
    "def bmsim_vec(T, N, X0=0, mu=0, sigma=1, numsim=1):  \n",
    "    \"\"\"Simulate `numsim` Brownian motion paths.\"\"\"\n",
    "    deltaT = float(T)/N\n",
    "    tvec = np.linspace(0, T, N+1)\n",
    "    z = np.random.randn(numsim, N+1)  \n",
    "    dX = mu*deltaT + sigma*np.sqrt(deltaT)*z\n",
    "    \n",
    "    dX[:, 0] = 0.  \n",
    "    X = np.cumsum(dX, axis=1)  \n",
    "    \n",
    "    X += X0    \n",
    "    return tvec, X"
   ]
  },
  {
   "cell_type": "code",
   "execution_count": null,
   "metadata": {},
   "outputs": [],
   "source": []
  },
  {
   "cell_type": "code",
   "execution_count": null,
   "metadata": {},
   "outputs": [],
   "source": []
  }
 ],
 "metadata": {
  "kernelspec": {
   "display_name": "Python 3",
   "language": "python",
   "name": "python3"
  },
  "language_info": {
   "codemirror_mode": {
    "name": "ipython",
    "version": 3
   },
   "file_extension": ".py",
   "mimetype": "text/x-python",
   "name": "python",
   "nbconvert_exporter": "python",
   "pygments_lexer": "ipython3",
   "version": "3.8.5"
  }
 },
 "nbformat": 4,
 "nbformat_minor": 4
}
